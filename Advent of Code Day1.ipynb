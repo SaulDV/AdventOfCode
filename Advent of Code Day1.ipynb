{
 "cells": [
  {
   "cell_type": "code",
   "execution_count": 8,
   "id": "dd183262",
   "metadata": {
    "scrolled": true
   },
   "outputs": [
    {
     "name": "stdout",
     "output_type": "stream",
     "text": [
      "1475\n"
     ]
    }
   ],
   "source": [
    "import numpy as np\n",
    "\n",
    "file = open(\"AoCDay1.txt\",\"r\")\n",
    "lines = file.read().splitlines()\n",
    "\n",
    "total = np.size(lines)\n",
    "\n",
    "count = 0\n",
    "for i in range(total):\n",
    "    if i == 0:\n",
    "        pass\n",
    "    else:\n",
    "        first = int(lines[i-1])\n",
    "        second = int(lines[i])\n",
    "        if second > first:\n",
    "            count += 1\n",
    "            \n",
    "print(count)"
   ]
  },
  {
   "cell_type": "code",
   "execution_count": 57,
   "id": "acd576d4",
   "metadata": {},
   "outputs": [
    {
     "name": "stdout",
     "output_type": "stream",
     "text": [
      "1516\n"
     ]
    }
   ],
   "source": [
    "count = 0\n",
    "\n",
    "for i in range(total):\n",
    "    if i < 3:\n",
    "        pass\n",
    "    else:\n",
    "        first = int(lines[i-3])\n",
    "        second = int(lines[i-2])\n",
    "        third = int(lines[i-1])\n",
    "        fourth = int(lines[i])\n",
    "        \n",
    "        first3 = first + second + third\n",
    "        second3 = second + third + fourth\n",
    "        \n",
    "        if second3 > first3:\n",
    "            count += 1\n",
    "            \n",
    "print(count)"
   ]
  }
 ],
 "metadata": {
  "kernelspec": {
   "display_name": "Python 3",
   "language": "python",
   "name": "python3"
  },
  "language_info": {
   "codemirror_mode": {
    "name": "ipython",
    "version": 3
   },
   "file_extension": ".py",
   "mimetype": "text/x-python",
   "name": "python",
   "nbconvert_exporter": "python",
   "pygments_lexer": "ipython3",
   "version": "3.8.8"
  }
 },
 "nbformat": 4,
 "nbformat_minor": 5
}
