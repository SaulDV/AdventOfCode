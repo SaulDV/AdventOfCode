{
 "cells": [
  {
   "cell_type": "code",
   "execution_count": 363,
   "id": "df33263b",
   "metadata": {},
   "outputs": [
    {
     "name": "stdout",
     "output_type": "stream",
     "text": [
      "534\n"
     ]
    }
   ],
   "source": [
    "file = open(\"AoCDay8.txt\",\"r\")\n",
    "\n",
    "inputt = file.read().split(\"\\n\")\n",
    "inputt = [x.split(\"|\")[1] for x in inputt]\n",
    "inputt = [x[1::] for x in inputt]\n",
    "inputt = splitstringall(inputt)\n",
    "inputt = [x for x in inputt if len(x) == 2 or len(x) == 3 or len(x) == 4 or len(x) == 7]\n",
    "\n",
    "def splitstringall(string):\n",
    "    finalstring = \"\"\n",
    "    for j in range(len(string)):\n",
    "        newstring = \"\"\n",
    "        word = \"\"\n",
    "        for i in range(len(string[j])):\n",
    "            if string[j][i] != \" \":\n",
    "                word += string[j][i]\n",
    "            else:\n",
    "                newstring += word + \" \"\n",
    "                word = \"\"\n",
    "        newstring += word\n",
    "        finalstring += newstring + \" \"\n",
    "    return finalstring.split(\" \")\n",
    "\n",
    "print(len(inputt))"
   ]
  },
  {
   "cell_type": "code",
   "execution_count": 357,
   "id": "d779f9bc",
   "metadata": {},
   "outputs": [
    {
     "name": "stdout",
     "output_type": "stream",
     "text": [
      "1070188\n"
     ]
    }
   ],
   "source": [
    "file = open(\"AoCDay8.txt\",\"r\")\n",
    "data = file.read().split(\"\\n\")\n",
    "\n",
    "signals = [x.split(\"|\")[0] for x in data]\n",
    "outputs = [x.split(\"|\")[1] for x in data]\n",
    "\n",
    "signals = [x[:-1] for x in signals]\n",
    "outputs = [x[1::] for x in outputs]\n",
    "\n",
    "signals = splitstring(signals)\n",
    "outputs = splitstring(outputs)\n",
    "\n",
    "charlist = [\"a\",\"b\",\"c\",\"d\",\"e\",\"f\",\"g\"]\n",
    "labels = [0,1,2,3,4,5,6,7,8,9]\n",
    "\n",
    "for i in range(len(signals)):\n",
    "    one = [x for x in signals[i] if len(x) == 2][0]\n",
    "    seven = [x for x in signals[i] if len(x) == 3][0]\n",
    "    four = [x for x in signals[i] if len(x) == 4][0]\n",
    "    eight = [x for x in signals[i] if len(x) == 7][0]\n",
    "    \n",
    "    length5 = [x for x in signals[i] if len(x) == 5]\n",
    "    counts = countchars(length5)\n",
    "    uniquechars = [charlist[x] for x in range(len(charlist)) if counts[x] == 1]\n",
    "    length6 = [x for x in signals[i] if len(x) == 6]\n",
    "    \n",
    "    three = [length5[x] for x in range(len(length5)) if uniquechars[0] not in length5[x] and uniquechars[1] not in length5[x]][0]\n",
    "    nine = [length6[x] for x in range(len(length6)) for i in range(len(charlist)) if countchars(three)[i] == 0 and countchars(length6[x])[i] == 0][0] \n",
    "    five = [length5[x] for x in range(len(length5)) if length5[x] != three for i in range(len(charlist)) if countchars(three)[i] == 0 and countchars(length5[x])[i] == 0 and countchars(nine)[i] == 0][0]\n",
    "    two = [x for x in length5 if x != three and x != five][0]\n",
    "    zero = [length6[x] for x in range(len(length6)) if length6[x] != nine and one[0] in length6[x] and one[1] in length6[x]][0]        \n",
    "    six = [x for x in length6 if x != nine and x != zero][0]\n",
    "    \n",
    "    numbers = [zero,one,two,three,four,five,six,seven,eight,nine]\n",
    "    num = \"\"\n",
    "    for digit in range(len(outputs[i])):\n",
    "        outputs[i][digit] = [labels[x] for x in range(len(labels)) if \"\".join(sorted(outputs[i][digit])) == \"\".join(sorted(numbers[x]))][0]\n",
    "        num += str(outputs[i][digit])\n",
    "\n",
    "    outputs[i] = int(num)\n",
    "\n",
    "print(sum(outputs))\n",
    "    \n",
    "def countchars(stringlist):\n",
    "    counts = [0]*len(charlist)\n",
    "    for i in range(len(stringlist)):\n",
    "        for char in range(len(charlist)):\n",
    "            counts[char] += stringlist[i].count(charlist[char])\n",
    "    return(counts)      \n",
    "\n",
    "def splitstring(string):\n",
    "    finalstring = []\n",
    "    for j in range(len(string)):\n",
    "        newstring = \"\"\n",
    "        word = \"\"\n",
    "        for i in range(len(string[j])):\n",
    "            if string[j][i] != \" \":\n",
    "                word += string[j][i]\n",
    "            else:\n",
    "                newstring += word + \" \"\n",
    "                word = \"\"\n",
    "        newstring += word\n",
    "        finalstring.append(newstring.split(\" \"))\n",
    "    return finalstring"
   ]
  }
 ],
 "metadata": {
  "kernelspec": {
   "display_name": "Python 3",
   "language": "python",
   "name": "python3"
  },
  "language_info": {
   "codemirror_mode": {
    "name": "ipython",
    "version": 3
   },
   "file_extension": ".py",
   "mimetype": "text/x-python",
   "name": "python",
   "nbconvert_exporter": "python",
   "pygments_lexer": "ipython3",
   "version": "3.8.8"
  }
 },
 "nbformat": 4,
 "nbformat_minor": 5
}
