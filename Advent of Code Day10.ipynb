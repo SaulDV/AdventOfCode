{
 "cells": [
  {
   "cell_type": "code",
   "execution_count": 152,
   "id": "df73cee1",
   "metadata": {},
   "outputs": [
    {
     "name": "stdout",
     "output_type": "stream",
     "text": [
      "Total syntax error is: 399153\n"
     ]
    }
   ],
   "source": [
    "import math\n",
    "\n",
    "file = open(\"AoCDay10.txt\",\"r\")\n",
    "\n",
    "lines = file.read().splitlines()\n",
    "\n",
    "openn = (\"(\", \"[\", \"{\", \"<\")\n",
    "closed = (\")\", \"]\", \"}\", \">\")\n",
    "\n",
    "illegals = []\n",
    "illegallines = []\n",
    "\n",
    "for line in range(len(lines)):\n",
    "    chunks = []\n",
    "    for symbol in range(len(lines[line])):\n",
    "        this = lines[line][symbol]\n",
    "        if this in openn:\n",
    "            chunks.append(lines[line][symbol])\n",
    "        if this in closed:\n",
    "            if chunks[-1] != openn[closed.index(this)]:\n",
    "                illegals.append(this)\n",
    "                illegallines.append(lines[line])\n",
    "                break\n",
    "            else:\n",
    "                chunks.pop()\n",
    "\n",
    "allowed = [line for line in lines if line not in illegallines]\n",
    "\n",
    "total = 0\n",
    "for each in illegals:\n",
    "    if each == \")\": total += 3\n",
    "    elif each == \"]\": total += 57\n",
    "    elif each == \"}\": total += 1197\n",
    "    elif each == \">\": total += 25137\n",
    "        \n",
    "print(\"Total syntax error is:\",total)"
   ]
  },
  {
   "cell_type": "code",
   "execution_count": 151,
   "id": "5119a37e",
   "metadata": {},
   "outputs": [
    {
     "name": "stdout",
     "output_type": "stream",
     "text": [
      "The middle value is: 2995077699\n"
     ]
    }
   ],
   "source": [
    "openings = []\n",
    "\n",
    "for line in range(len(allowed)):\n",
    "    chunks = \"\"\n",
    "    for symbol in range(len(allowed[line])):\n",
    "        this = allowed[line][symbol]\n",
    "        if this in openn:\n",
    "            chunks += allowed[line][symbol]\n",
    "        if this in closed:\n",
    "                chunks = chunks[:-1]\n",
    "    openings.append(chunks)\n",
    "\n",
    "endings = []\n",
    "for line in openings:\n",
    "    closings = \"\"\n",
    "    for character in range(len(line)-1, -1, -1):\n",
    "        closings += closed[openn.index(line[character])]\n",
    "    endings.append(closings)    \n",
    "\n",
    "totals = []\n",
    "for line in endings:\n",
    "    total = 0\n",
    "    for character in line:\n",
    "        total *= 5\n",
    "        if character == \")\": total += 1\n",
    "        elif character == \"]\": total += 2\n",
    "        elif character == \"}\": total += 3\n",
    "        elif character == \">\": total += 4\n",
    "    totals.append(total)\n",
    "\n",
    "totals.sort()\n",
    "print(\"The middle value is:\",totals[math.floor(len(totals)/2)])"
   ]
  }
 ],
 "metadata": {
  "kernelspec": {
   "display_name": "Python 3",
   "language": "python",
   "name": "python3"
  },
  "language_info": {
   "codemirror_mode": {
    "name": "ipython",
    "version": 3
   },
   "file_extension": ".py",
   "mimetype": "text/x-python",
   "name": "python",
   "nbconvert_exporter": "python",
   "pygments_lexer": "ipython3",
   "version": "3.8.8"
  }
 },
 "nbformat": 4,
 "nbformat_minor": 5
}
