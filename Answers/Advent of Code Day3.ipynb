{
 "cells": [
  {
   "cell_type": "code",
   "execution_count": 1,
   "id": "d8ff4bb5",
   "metadata": {},
   "outputs": [
    {
     "name": "stdout",
     "output_type": "stream",
     "text": [
      "101100100001 010011011110 3549854\n"
     ]
    }
   ],
   "source": [
    "import numpy as np\n",
    "from collections import Counter\n",
    "\n",
    "file = open(\"AoCDay3.txt\",\"r\")\n",
    "lines = file.read().splitlines()\n",
    "\n",
    "total = np.size(lines)\n",
    "totaldigits = len(lines[0])\n",
    "\n",
    "gammaRate = \"\"\n",
    "epsilonRate = \"\"\n",
    "\n",
    "for i in range(totaldigits):\n",
    "    gammaRate += str(Counter([x[i] for x in lines]).most_common(1)[0][0])\n",
    "    epsilonRate += str(Counter([x[i] for x in lines]).most_common()[-1][0][0])\n",
    "\n",
    "print(gammaRate, epsilonRate, int(gammaRate,2)*int(epsilonRate,2))"
   ]
  },
  {
   "cell_type": "code",
   "execution_count": 2,
   "id": "5ea75972",
   "metadata": {},
   "outputs": [
    {
     "name": "stdout",
     "output_type": "stream",
     "text": [
      "[('0', 1), ('1', 1)] ['101011011111']\n"
     ]
    }
   ],
   "source": [
    "oxygenSet = lines.copy()\n",
    "\n",
    "for digit in range(totaldigits):\n",
    "    if len(oxygenSet) > 1:\n",
    "        countResults = Counter([number[digit] for number in oxygenSet]).most_common()\n",
    "        \n",
    "        if countResults[0][1] == countResults[1][1]:\n",
    "            mostCommon = '1'\n",
    "        else:\n",
    "            mostCommon = countResults[0][0]   \n",
    "\n",
    "        for number in oxygenSet[:]:\n",
    "            if number[digit] != mostCommon:\n",
    "                oxygenSet.remove(number)\n",
    "\n",
    "print(countResults, oxygenSet)"
   ]
  },
  {
   "cell_type": "code",
   "execution_count": 4,
   "id": "19354aad",
   "metadata": {},
   "outputs": [
    {
     "name": "stdout",
     "output_type": "stream",
     "text": [
      "['010101001001'] 3765399\n"
     ]
    }
   ],
   "source": [
    "CO2 = lines.copy()\n",
    "\n",
    "for j in range(totaldigits):\n",
    "    if len(CO2) > 1:\n",
    "        countResults = Counter([x[j] for x in CO2]).most_common()\n",
    "        \n",
    "        if countResults[0][1] == countResults[1][1]:\n",
    "            mostCommon = '0'\n",
    "        else:\n",
    "            mostCommon = countResults[1][0]   \n",
    "\n",
    "        for i in CO2[:]:\n",
    "            if i[j] != mostCommon:\n",
    "                CO2.remove(i)\n",
    "\n",
    "print(CO2, int(oxygenSet[0],2)*int(CO2[0],2))"
   ]
  }
 ],
 "metadata": {
  "kernelspec": {
   "display_name": "Python 3",
   "language": "python",
   "name": "python3"
  },
  "language_info": {
   "codemirror_mode": {
    "name": "ipython",
    "version": 3
   },
   "file_extension": ".py",
   "mimetype": "text/x-python",
   "name": "python",
   "nbconvert_exporter": "python",
   "pygments_lexer": "ipython3",
   "version": "3.8.8"
  }
 },
 "nbformat": 4,
 "nbformat_minor": 5
}
