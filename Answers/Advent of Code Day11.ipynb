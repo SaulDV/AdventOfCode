{
 "cells": [
  {
   "cell_type": "code",
   "execution_count": 28,
   "id": "86226ed1",
   "metadata": {
    "scrolled": true
   },
   "outputs": [
    {
     "name": "stdout",
     "output_type": "stream",
     "text": [
      "Step: 258\n",
      "The total flash count is: 4026\n"
     ]
    }
   ],
   "source": [
    "file = open(\"AoCDay11.txt\",\"r\")\n",
    "lines = file.read().splitlines()\n",
    "octopuses = [int(digit) for row in lines for digit in row]\n",
    "octopuses = [octopuses[i:i + 10] for i in range(0, len(octopuses), 10)]\n",
    "\n",
    "steps = 258\n",
    "totalflashcount = 0\n",
    "for step in range(steps):\n",
    "    addOne(octopuses)\n",
    "    flashRun(octopuses)\n",
    "    reset(octopuses,step)\n",
    "    #print(octopuses)\n",
    "    \n",
    "print(\"The total flash count is:\",totalflashcount)"
   ]
  },
  {
   "cell_type": "code",
   "execution_count": 3,
   "id": "53e4d629",
   "metadata": {},
   "outputs": [],
   "source": [
    "def addOne(array):\n",
    "    for row in range(len(array)):\n",
    "        for digit in range(len(array[row])):\n",
    "            array[row][digit] += 1\n",
    "                     \n",
    "def flashRun(array): \n",
    "    stepcount = 0\n",
    "    while(True):\n",
    "        runcount = 0\n",
    "        for row in range(len(array)):\n",
    "            for digit in range(len(array[row])):\n",
    "                if array[row][digit] == 10:\n",
    "                    global totalflashcount\n",
    "                    totalflashcount += 1\n",
    "                    stepcount += 1\n",
    "                    runcount += 1\n",
    "                    flash(octopuses,row,digit)\n",
    "        if runcount == 0:\n",
    "            #print(array)\n",
    "            break\n",
    "               \n",
    "def flash(array,row,col):\n",
    "    up = 0 if row == 0 else 1\n",
    "    left = 0 if col == 0 else 1\n",
    "    down = 0 if row == len(array)-1 else 1\n",
    "    right = 0 if col == len(array[0])-1 else 1   \n",
    "    \n",
    "    if bool(up) and not array[row-1][col] > 9: array[row-1][col] += 1\n",
    "    if bool(left) and not array[row][col-1] > 9: array[row][col-1] += 1\n",
    "    if bool(down) and not array[row+1][col] > 9: array[row+1][col] += 1\n",
    "    if bool(right) and not array[row][col+1] > 9: array[row][col+1] += 1\n",
    "    \n",
    "    if bool(up) and bool(left) and not array[row-1][col-1] > 9: array[row-1][col-1] += 1\n",
    "    if bool(up) and bool(right) and not array[row-1][col+1] > 9: array[row-1][col+1] += 1 \n",
    "    if bool(down) and bool(left) and not array[row+1][col-1] > 9: array[row+1][col-1] += 1\n",
    "    if bool(down) and bool(right) and not array[row+1][col+1] > 9: array[row+1][col+1] += 1\n",
    "    \n",
    "    array[row][col] += 1\n",
    "\n",
    "def reset(array,step):\n",
    "    count = 0\n",
    "    for row in range(len(array)):\n",
    "        for digit in range(len(array[row])):\n",
    "            if array[row][digit] > 9: \n",
    "                array[row][digit] = 0\n",
    "                count += 1\n",
    "    if count == 100:\n",
    "        print(\"Step:\",step+1)"
   ]
  }
 ],
 "metadata": {
  "kernelspec": {
   "display_name": "Python 3",
   "language": "python",
   "name": "python3"
  },
  "language_info": {
   "codemirror_mode": {
    "name": "ipython",
    "version": 3
   },
   "file_extension": ".py",
   "mimetype": "text/x-python",
   "name": "python",
   "nbconvert_exporter": "python",
   "pygments_lexer": "ipython3",
   "version": "3.8.8"
  }
 },
 "nbformat": 4,
 "nbformat_minor": 5
}
