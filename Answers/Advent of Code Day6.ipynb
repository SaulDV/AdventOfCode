{
 "cells": [
  {
   "cell_type": "code",
   "execution_count": 1,
   "id": "6fda0897",
   "metadata": {},
   "outputs": [
    {
     "name": "stdout",
     "output_type": "stream",
     "text": [
      "1640526601595\n"
     ]
    }
   ],
   "source": [
    "import numpy as np\n",
    "\n",
    "file = open(\"AoCDay6.txt\",\"r\")\n",
    "fish = file.read().split(\",\")\n",
    "fish = [int(x) for x in fish]\n",
    "fish = [fish.count(x) for x in range(max(fish)+1)]\n",
    "fish.extend([0]*(9-len(fish)))\n",
    "\n",
    "for i in range(256):\n",
    "    newfish = fish[0]\n",
    "    fish.extend([newfish])\n",
    "    fish[7] += newfish\n",
    "    fish.pop(0)\n",
    "\n",
    "print(sum(fish))"
   ]
  },
  {
   "cell_type": "code",
   "execution_count": 3,
   "id": "7983ec26",
   "metadata": {
    "scrolled": true
   },
   "outputs": [
    {
     "name": "stdout",
     "output_type": "stream",
     "text": [
      "362666\n"
     ]
    }
   ],
   "source": [
    "import numpy as np\n",
    "\n",
    "file = open(\"AoCDay6.txt\",\"r\")\n",
    "fish = file.read().split(\",\")\n",
    "fish = [int(x) for x in fish]\n",
    "#print(fish)\n",
    "\n",
    "for i in range(79):\n",
    "    \n",
    "    fish = [x - 1 for x in fish]\n",
    "#    print(len(fish), fish)\n",
    "    fish.extend([int(9)]*fish.count(0))\n",
    "    fish = [7 if x == 0 else x for x in fish]\n",
    "    \n",
    "print(len(fish))"
   ]
  }
 ],
 "metadata": {
  "kernelspec": {
   "display_name": "Python 3",
   "language": "python",
   "name": "python3"
  },
  "language_info": {
   "codemirror_mode": {
    "name": "ipython",
    "version": 3
   },
   "file_extension": ".py",
   "mimetype": "text/x-python",
   "name": "python",
   "nbconvert_exporter": "python",
   "pygments_lexer": "ipython3",
   "version": "3.8.8"
  }
 },
 "nbformat": 4,
 "nbformat_minor": 5
}
