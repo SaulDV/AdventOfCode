{
 "cells": [
  {
   "cell_type": "code",
   "execution_count": 16,
   "id": "b7b9bd8a",
   "metadata": {},
   "outputs": [],
   "source": [
    "file = open(\"AoCDay12.txt\",\"r\")\n",
    "file = file.read().splitlines()\n",
    "file = [x.split(\"-\") for x in file]\n",
    "\n",
    "connections = []\n",
    "for line in range(len(file)):\n",
    "    first = file[line][0]\n",
    "    second = file[line][1]\n",
    "    firstAlreadyIn = False\n",
    "    secondAlreadyIn = False\n",
    "    for x in range(len(connections)):\n",
    "        if first in connections[x]:\n",
    "            firstAlreadyIn = True  \n",
    "        if second in connections[x]:\n",
    "            secondAlreadyIn = True \n",
    "    if firstAlreadyIn == False: \n",
    "        connections.append([first, second])\n",
    "    if secondAlreadyIn == False: \n",
    "        connections.append([second, first])\n",
    "    \n",
    "    if firstAlreadyIn == True:\n",
    "        for x in range(len(connections)):\n",
    "            if connections[x][0] == first:\n",
    "                connections[x].append(second)\n",
    "    if secondAlreadyIn == True:\n",
    "        for x in range(len(connections)):\n",
    "            if connections[x][0] == second:\n",
    "                connections[x].append(first)\n",
    "                \n",
    "start = connections[matchIndex(connections,0,'start')][1:]\n",
    "end = connections[matchIndex(connections,0,'end')][1:]\n",
    "connections.pop(matchIndex(connections,0,'start'))\n",
    "connections.pop(matchIndex(connections,0,'end'))\n",
    "\n",
    "legitconnections = []\n",
    "for x in range(len(connections)):\n",
    "    if checkIndex(connections[x],'start'):\n",
    "        popIndex(connections[x],'start')\n",
    "    #if checkIndex(connections[x],'end'):\n",
    "        #popIndex(connections[x],'end')\n",
    "    if len(connections[x]) == 2:\n",
    "        if connections[x][1].isupper():\n",
    "            legitconnections.append(connections[x])\n",
    "        else:\n",
    "            legitconnections[matchIndex(legitconnections,0,connections[x][1])].pop(checkIndex(legitconnections[matchIndex(legitconnections,0,connections[x][1])],connections[x][0]))\n",
    "            continue\n",
    "    else:\n",
    "        legitconnections.append(connections[x])\n",
    "        \n",
    "paths = []\n",
    "\n",
    "        \n",
    "#OU = connections[matchStartIndex(connections,'OU')]\n",
    "#xt = connections[matchStartIndex(connections,'xt')]\n",
    "#hq = connections[matchStartIndex(connections,'hq')]\n",
    "#br = connections[matchStartIndex(connections,'br')]\n",
    "#HP = connections[matchStartIndex(connections,'HP')]\n",
    "#WD = connections[matchStartIndex(connections,'WD')]\n",
    "#MH = connections[matchStartIndex(connections,'MH')]\n",
    "#qw = connections[matchStartIndex(connections,'qw')]\n",
    "#hm = connections[matchStartIndex(connections,'hm')]\n",
    "#connections2 = [OU,xt,hq,br,HP,WD,MH,qw,hm]\n",
    "\n",
    "#connections[]\n",
    "#while(True):\n",
    "    #path = ['start',start[0],]"
   ]
  },
  {
   "cell_type": "code",
   "execution_count": 28,
   "id": "737bd98a",
   "metadata": {},
   "outputs": [
    {
     "data": {
      "text/plain": [
       "[['start', 'OU', 'MH', 'hq'],\n",
       " ['OU', 'xt', 'start', 'qw', 'hq'],\n",
       " ['xt', 'OU', 'hq', 'WD', 'br', 'MH', 'qw'],\n",
       " ['hq', 'xt', 'br', 'MH', 'start', 'OU'],\n",
       " ['br', 'HP', 'end', 'hq', 'xt', 'MH', 'WD'],\n",
       " ['HP', 'br'],\n",
       " ['WD', 'xt', 'end', 'hm', 'br', 'qw'],\n",
       " ['MH', 'hq', 'start', 'br', 'xt', 'qw'],\n",
       " ['qw', 'OU', 'MH', 'WD', 'end', 'xt'],\n",
       " ['hm', 'WD'],\n",
       " ['end', 'br', 'WD', 'qw']]"
      ]
     },
     "execution_count": 28,
     "metadata": {},
     "output_type": "execute_result"
    }
   ],
   "source": [
    "connections2"
   ]
  },
  {
   "cell_type": "code",
   "execution_count": 38,
   "id": "ed80dd80",
   "metadata": {},
   "outputs": [
    {
     "data": {
      "text/plain": [
       "['OU', 'MH', 'hq']"
      ]
     },
     "execution_count": 38,
     "metadata": {},
     "output_type": "execute_result"
    }
   ],
   "source": [
    "start"
   ]
  },
  {
   "cell_type": "code",
   "execution_count": 39,
   "id": "b713b79c",
   "metadata": {},
   "outputs": [
    {
     "data": {
      "text/plain": [
       "['br', 'WD', 'qw']"
      ]
     },
     "execution_count": 39,
     "metadata": {},
     "output_type": "execute_result"
    }
   ],
   "source": [
    "end"
   ]
  },
  {
   "cell_type": "code",
   "execution_count": 8,
   "id": "00d03310",
   "metadata": {},
   "outputs": [
    {
     "data": {
      "text/plain": [
       "6"
      ]
     },
     "execution_count": 8,
     "metadata": {},
     "output_type": "execute_result"
    }
   ],
   "source": [
    "matchIndex(legitconnections,checkIndex(legitconnections[matchIndex(legitconnections,0,)]),legitconnections[0][2])"
   ]
  },
  {
   "cell_type": "code",
   "execution_count": 17,
   "id": "0c76cf27",
   "metadata": {
    "scrolled": true
   },
   "outputs": [
    {
     "data": {
      "text/plain": [
       "[['OU', 'xt', 'qw', 'hq'],\n",
       " ['xt', 'OU', 'hq', 'WD', 'br', 'MH', 'qw'],\n",
       " ['hq', 'xt', 'br', 'MH', 'OU'],\n",
       " ['br', 'end', 'hq', 'xt', 'MH', 'WD'],\n",
       " ['WD', 'xt', 'end', 'hm', 'br', 'qw'],\n",
       " ['MH', 'hq', 'br', 'xt', 'qw'],\n",
       " ['qw', 'OU', 'MH', 'WD', 'end', 'xt'],\n",
       " ['hm', 'WD']]"
      ]
     },
     "execution_count": 17,
     "metadata": {},
     "output_type": "execute_result"
    }
   ],
   "source": [
    "legitconnections"
   ]
  },
  {
   "cell_type": "code",
   "execution_count": null,
   "id": "64c70c50",
   "metadata": {},
   "outputs": [],
   "source": [
    "paths = []\n",
    "while(True):\n",
    "    startcount = 0\n",
    "    con1count = 0\n",
    "    while(True):\n",
    "        path = ['start',start[startcount]]\n",
    "        con1index = legitconnections[checkIndex(legitconnections,start[startcount])]\n",
    "        path.append(legitconnections[con1index][])    "
   ]
  },
  {
   "cell_type": "code",
   "execution_count": 47,
   "id": "36e2df5d",
   "metadata": {},
   "outputs": [
    {
     "data": {
      "text/plain": [
       "['OU', 'MH', 'hq']"
      ]
     },
     "execution_count": 47,
     "metadata": {},
     "output_type": "execute_result"
    }
   ],
   "source": [
    "start"
   ]
  },
  {
   "cell_type": "code",
   "execution_count": 49,
   "id": "68b054b3",
   "metadata": {},
   "outputs": [
    {
     "data": {
      "text/plain": [
       "['br', 'WD', 'qw']"
      ]
     },
     "execution_count": 49,
     "metadata": {},
     "output_type": "execute_result"
    }
   ],
   "source": [
    "end"
   ]
  },
  {
   "cell_type": "code",
   "execution_count": 2,
   "id": "cd768cec",
   "metadata": {},
   "outputs": [],
   "source": [
    "def matchIndex(array,index,str):\n",
    "    for line in range(len(array)):\n",
    "        if array[line][index] == str:\n",
    "            return line"
   ]
  },
  {
   "cell_type": "code",
   "execution_count": 3,
   "id": "abc406d3",
   "metadata": {},
   "outputs": [],
   "source": [
    "def checkIndex(line,str):\n",
    "    for strng in range(len(line)):\n",
    "        if line[strng] == str:\n",
    "            return strng"
   ]
  },
  {
   "cell_type": "code",
   "execution_count": 4,
   "id": "e5990c4e",
   "metadata": {},
   "outputs": [],
   "source": [
    "def popIndex(line,str):\n",
    "    for strng in range(len(line)):\n",
    "        if line[strng] == str:\n",
    "            line.pop(checkIndex(line,str))\n",
    "            break"
   ]
  },
  {
   "cell_type": "code",
   "execution_count": 31,
   "id": "feeb77c9",
   "metadata": {},
   "outputs": [],
   "source": [
    "path = [connections2[0][0],connections2[0][1],connections2[matchStartIndex(connections2,connections2[1][0])][1]]"
   ]
  },
  {
   "cell_type": "code",
   "execution_count": 32,
   "id": "396b1ce1",
   "metadata": {},
   "outputs": [
    {
     "data": {
      "text/plain": [
       "['start', 'OU', 'xt']"
      ]
     },
     "execution_count": 32,
     "metadata": {},
     "output_type": "execute_result"
    }
   ],
   "source": [
    "path"
   ]
  },
  {
   "cell_type": "code",
   "execution_count": 26,
   "id": "f7d81b39",
   "metadata": {},
   "outputs": [
    {
     "data": {
      "text/plain": [
       "'OU'"
      ]
     },
     "execution_count": 26,
     "metadata": {},
     "output_type": "execute_result"
    }
   ],
   "source": [
    "connections2[2][0]"
   ]
  },
  {
   "cell_type": "code",
   "execution_count": 45,
   "id": "0817b324",
   "metadata": {},
   "outputs": [
    {
     "data": {
      "text/plain": [
       "2"
      ]
     },
     "execution_count": 45,
     "metadata": {},
     "output_type": "execute_result"
    }
   ],
   "source": [
    "checkIndex(connections[0],'start')"
   ]
  },
  {
   "cell_type": "code",
   "execution_count": 50,
   "id": "51222732",
   "metadata": {},
   "outputs": [
    {
     "name": "stdout",
     "output_type": "stream",
     "text": [
      "yes\n"
     ]
    }
   ],
   "source": [
    "if checkIndex(connections[0],'start'):\n",
    "    print(\"yes\")"
   ]
  },
  {
   "cell_type": "code",
   "execution_count": 77,
   "id": "c2b1ec2a",
   "metadata": {},
   "outputs": [],
   "source": [
    "popIndex(legitconnections[0],'start')"
   ]
  },
  {
   "cell_type": "code",
   "execution_count": 78,
   "id": "ba966524",
   "metadata": {},
   "outputs": [
    {
     "data": {
      "text/plain": [
       "[['OU', 'xt', 'qw', 'hq'],\n",
       " ['xt', 'OU', 'hq', 'WD', 'br', 'MH', 'qw'],\n",
       " ['hq', 'xt', 'br', 'MH', 'start', 'OU'],\n",
       " ['br', 'HP', 'end', 'hq', 'xt', 'MH', 'WD'],\n",
       " ['WD', 'xt', 'end', 'hm', 'br', 'qw'],\n",
       " ['MH', 'hq', 'start', 'br', 'xt', 'qw'],\n",
       " ['qw', 'OU', 'MH', 'WD', 'end', 'xt'],\n",
       " ['hm', 'WD']]"
      ]
     },
     "execution_count": 78,
     "metadata": {},
     "output_type": "execute_result"
    }
   ],
   "source": [
    "legitconnections"
   ]
  },
  {
   "cell_type": "code",
   "execution_count": null,
   "id": "69328653",
   "metadata": {},
   "outputs": [],
   "source": []
  }
 ],
 "metadata": {
  "kernelspec": {
   "display_name": "Python 3",
   "language": "python",
   "name": "python3"
  },
  "language_info": {
   "codemirror_mode": {
    "name": "ipython",
    "version": 3
   },
   "file_extension": ".py",
   "mimetype": "text/x-python",
   "name": "python",
   "nbconvert_exporter": "python",
   "pygments_lexer": "ipython3",
   "version": "3.8.8"
  }
 },
 "nbformat": 4,
 "nbformat_minor": 5
}
