{
 "cells": [
  {
   "cell_type": "code",
   "execution_count": 24,
   "id": "48f877a5",
   "metadata": {},
   "outputs": [
    {
     "name": "stdout",
     "output_type": "stream",
     "text": [
      "48 7\n"
     ]
    }
   ],
   "source": [
    "import numpy as np\n",
    "from collections import Counter\n",
    "\n",
    "file = open(\"AoCDay4.txt\",\"r\")\n",
    "lines = file.read().split(\"\\n\\n\")\n",
    "\n",
    "numbers = lines[0].split(\",\")\n",
    "rawboards = [x.split(\"\\n\") for x in lines[1:]]\n",
    "\n",
    "boards = np.zeros((100,5,5), dtype=object)\n",
    "for i in range(len(boards)):\n",
    "    for j in range(5):\n",
    "        boards[i][j][:] = rawboards[i][j].split()\n",
    "        \n",
    "print(boards[41][2][0],boards[39][2][2])"
   ]
  },
  {
   "cell_type": "code",
   "execution_count": 31,
   "id": "e3ae7ee3",
   "metadata": {
    "scrolled": true
   },
   "outputs": [
    {
     "name": "stdout",
     "output_type": "stream",
     "text": [
      "[41, 20, 83, 97, 15, 37, 18, 57, 99, 10, 7, 11, 14, 29, 96, 33, 43, 50, 89, 3, 26, 31, 34, 38, 24, 86, 4, 36, 58, 66, 9, 71, 61, 64, 87, 16, 19, 55, 85, 65, 74, 30, 60, 80, 90, 51, 67, 45, 47, 73, 0, 27, 70, 77, 78, 98, 32, 35, 56, 68, 95, 75, 6, 12, 44, 48, 8, 94, 21, 42, 69, 79, 63, 76, 17, 72, 82, 91, 25, 54, 2, 46, 5, 52, 92, 93, 49, 59, 28, 22, 23, 84, 1, 88, 81, 40, 62, 13, 53, 39]\n"
     ]
    }
   ],
   "source": [
    "winning = np.array(['100', '100', '100', '100', '100'],dtype=object)\n",
    "completedBoards = []\n",
    "\n",
    "for number in numbers:\n",
    "    for board in range(len(boards)):\n",
    "        for row in range(len(boards[0])):\n",
    "            for column in range(len(boards[0][0])):\n",
    "                if int(number) == int(boards[board][row,column]):\n",
    "                    boards[board][row,column] = '100'\n",
    "                    if np.array_equiv(boards[board][row],winning) or np.array_equiv(boards[board][:,column],winning):\n",
    "                        if board in completedBoards:\n",
    "                            break\n",
    "                        else:\n",
    "                            #print(\"win\", board, boards[board], row, column)\n",
    "                            completedBoards.append(board)\n",
    "                            \n",
    "print(completedBoards)"
   ]
  },
  {
   "cell_type": "code",
   "execution_count": 285,
   "id": "0da5d633",
   "metadata": {
    "scrolled": true
   },
   "outputs": [
    {
     "data": {
      "text/plain": [
       "932"
      ]
     },
     "execution_count": 285,
     "metadata": {},
     "output_type": "execute_result"
    }
   ],
   "source": [
    "sum([63,3,22,7,10,76,77,38,31,75,74,78,86,64,71,90,67])"
   ]
  },
  {
   "cell_type": "code",
   "execution_count": 417,
   "id": "413f49eb",
   "metadata": {},
   "outputs": [
    {
     "data": {
      "text/plain": [
       "261"
      ]
     },
     "execution_count": 417,
     "metadata": {},
     "output_type": "execute_result"
    }
   ],
   "source": [
    "sum([20,3,90,67,81])"
   ]
  },
  {
   "cell_type": "code",
   "execution_count": 284,
   "id": "eb61d14a",
   "metadata": {},
   "outputs": [
    {
     "data": {
      "text/plain": [
       "44736"
      ]
     },
     "execution_count": 284,
     "metadata": {},
     "output_type": "execute_result"
    }
   ],
   "source": [
    "932*48"
   ]
  },
  {
   "cell_type": "code",
   "execution_count": 418,
   "id": "020c7ae3",
   "metadata": {},
   "outputs": [
    {
     "data": {
      "text/plain": [
       "1827"
      ]
     },
     "execution_count": 418,
     "metadata": {},
     "output_type": "execute_result"
    }
   ],
   "source": [
    "261*7"
   ]
  }
 ],
 "metadata": {
  "kernelspec": {
   "display_name": "Python 3",
   "language": "python",
   "name": "python3"
  },
  "language_info": {
   "codemirror_mode": {
    "name": "ipython",
    "version": 3
   },
   "file_extension": ".py",
   "mimetype": "text/x-python",
   "name": "python",
   "nbconvert_exporter": "python",
   "pygments_lexer": "ipython3",
   "version": "3.8.8"
  }
 },
 "nbformat": 4,
 "nbformat_minor": 5
}
