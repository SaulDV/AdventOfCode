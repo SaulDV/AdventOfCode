{
 "cells": [
  {
   "cell_type": "code",
   "execution_count": 5,
   "id": "a174db04",
   "metadata": {},
   "outputs": [
    {
     "name": "stdout",
     "output_type": "stream",
     "text": [
      "356992\n"
     ]
    }
   ],
   "source": [
    "file = open(\"AoCDay7.txt\",\"r\")\n",
    "crabs = file.read().split(\",\")\n",
    "crabs = [int(x) for x in crabs]\n",
    "\n",
    "fuelCosts = []\n",
    "for i in range(max(crabs)):\n",
    "    distance = []\n",
    "    for j in range(len(crabs)):\n",
    "        distance.append(abs(crabs[j] - i))\n",
    "    fuelCosts.append(sum(distance))\n",
    "    \n",
    "print(int(min(fuelCosts)))"
   ]
  },
  {
   "cell_type": "code",
   "execution_count": 6,
   "id": "bd974e32",
   "metadata": {},
   "outputs": [
    {
     "name": "stdout",
     "output_type": "stream",
     "text": [
      "101268110\n"
     ]
    }
   ],
   "source": [
    "fuelCosts = []\n",
    "for i in range(max(crabs)):\n",
    "    distances = []\n",
    "    for j in range(len(crabs)):\n",
    "        distances.append(abs(crabs[j] - i))\n",
    "    distances = [(x**2+x)/2 for x in distances]\n",
    "    fuelCosts.append(sum(distances))\n",
    "\n",
    "print(int(min(fuelCosts)))"
   ]
  }
 ],
 "metadata": {
  "kernelspec": {
   "display_name": "Python 3",
   "language": "python",
   "name": "python3"
  },
  "language_info": {
   "codemirror_mode": {
    "name": "ipython",
    "version": 3
   },
   "file_extension": ".py",
   "mimetype": "text/x-python",
   "name": "python",
   "nbconvert_exporter": "python",
   "pygments_lexer": "ipython3",
   "version": "3.8.8"
  }
 },
 "nbformat": 4,
 "nbformat_minor": 5
}
