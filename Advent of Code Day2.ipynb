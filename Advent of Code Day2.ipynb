{
 "cells": [
  {
   "cell_type": "code",
   "execution_count": 1,
   "id": "b6633dc2",
   "metadata": {},
   "outputs": [
    {
     "name": "stdout",
     "output_type": "stream",
     "text": [
      "1940 861 1670340\n"
     ]
    }
   ],
   "source": [
    "import numpy as np\n",
    "\n",
    "file = open(\"AoCDay2.txt\",\"r\")\n",
    "lines = file.read().splitlines()\n",
    "\n",
    "total = np.size(lines)\n",
    "\n",
    "inputt = list()\n",
    "for i in range(total):    \n",
    "    inputt.append(lines[i].split())\n",
    "\n",
    "horizontal = 0\n",
    "depth = 0\n",
    "\n",
    "for i in range(total):\n",
    "    movementDirection = inputt[i][0]\n",
    "    movementSize = int(inputt[i][1])\n",
    "    \n",
    "    if movementDirection == 'forward':\n",
    "        horizontal += movementSize\n",
    "    \n",
    "    if movementDirection == 'up':\n",
    "        depth -= movementSize\n",
    "    \n",
    "    if movementDirection == 'down':\n",
    "        depth += movementSize\n",
    "\n",
    "print(horizontal, depth, horizontal*depth)"
   ]
  },
  {
   "cell_type": "code",
   "execution_count": 3,
   "id": "242ef463",
   "metadata": {},
   "outputs": [
    {
     "name": "stdout",
     "output_type": "stream",
     "text": [
      "1940 1007368 1954293920\n"
     ]
    }
   ],
   "source": [
    "import numpy as np\n",
    "\n",
    "file = open(\"AoCDay2.txt\",\"r\")\n",
    "lines = file.read().splitlines()\n",
    "\n",
    "total = np.size(lines)\n",
    "\n",
    "inputt = list()\n",
    "for i in range(total):    \n",
    "    inputt.append(lines[i].split())\n",
    "\n",
    "horizontal = 0\n",
    "depth = 0\n",
    "aim = 0\n",
    "\n",
    "for i in range(total):\n",
    "    movementDirection = inputt[i][0]\n",
    "    movementSize = int(inputt[i][1])\n",
    "    \n",
    "    if movementDirection == 'forward':\n",
    "        horizontal += movementSize\n",
    "        depth += movementSize*aim\n",
    "    \n",
    "    if movementDirection == 'up':\n",
    "        aim -= movementSize\n",
    "    \n",
    "    if movementDirection == 'down':\n",
    "        aim += movementSize\n",
    "\n",
    "print(horizontal, depth, horizontal*depth)"
   ]
  },
  {
   "cell_type": "code",
   "execution_count": null,
   "id": "cf857177",
   "metadata": {},
   "outputs": [],
   "source": []
  }
 ],
 "metadata": {
  "kernelspec": {
   "display_name": "Python 3",
   "language": "python",
   "name": "python3"
  },
  "language_info": {
   "codemirror_mode": {
    "name": "ipython",
    "version": 3
   },
   "file_extension": ".py",
   "mimetype": "text/x-python",
   "name": "python",
   "nbconvert_exporter": "python",
   "pygments_lexer": "ipython3",
   "version": "3.8.8"
  }
 },
 "nbformat": 4,
 "nbformat_minor": 5
}
