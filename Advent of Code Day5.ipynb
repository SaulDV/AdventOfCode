{
 "cells": [
  {
   "cell_type": "code",
   "execution_count": 51,
   "id": "9b42ac6f",
   "metadata": {},
   "outputs": [
    {
     "name": "stdout",
     "output_type": "stream",
     "text": [
      "The total number of crossover points is: 19172\n"
     ]
    }
   ],
   "source": [
    "import numpy as np\n",
    "\n",
    "file = open(\"AoCDay5.txt\",\"r\")\n",
    "lines = file.read().splitlines()\n",
    "newlines = [x.split()[::2] for x in lines]\n",
    "\n",
    "data = []\n",
    "for i in lines:\n",
    "    interim = i.split(\",\")\n",
    "    newline = [interim[0],interim[1].split(\" -> \")[0],interim[1].split(\" -> \")[1],interim[2]]\n",
    "    data.append(newline)\n",
    "    \n",
    "keepData = []\n",
    "for i in data:\n",
    "    if i[0] == i[2]:\n",
    "        keepData.append([i,'vertical'])\n",
    "    if i[1] == i[3]:\n",
    "        keepData.append([i,'horizontal'])\n",
    "    if abs(int(i[0]) - int(i[2])) == abs(int(i[1]) - int(i[3])):\n",
    "        keepData.append([i,'diagonal'])\n",
    "        \n",
    "grid = np.zeros([1000,1000])  \n",
    "for line in keepData:\n",
    "    if line[1] == 'vertical':\n",
    "        for i in range(min(int(line[0][1]),int(line[0][3])),max(int(line[0][1]),int(line[0][3]))+1,1):\n",
    "            grid[int(line[0][0]),i] += 1\n",
    "    \n",
    "    elif line[1] == 'horizontal':\n",
    "        for i in range(min(int(line[0][0]),int(line[0][2])),max(int(line[0][0]),int(line[0][2]))+1,1):\n",
    "            grid[i,int(line[0][1])] += 1\n",
    "            \n",
    "    else:\n",
    "        xco = []\n",
    "        yco = []\n",
    "\n",
    "        for i in range(min(int(line[0][0]),int(line[0][2])),max(int(line[0][0]),int(line[0][2]))+1,1):\n",
    "            xco.append(i)\n",
    "        if int(line[0][0]) > int(line[0][2]):\n",
    "            xco.reverse()\n",
    "        \n",
    "        for i in range(min(int(line[0][1]),int(line[0][3])),max(int(line[0][1]),int(line[0][3]))+1,1):\n",
    "            yco.append(i)  \n",
    "        if int(line[0][1]) > int(line[0][3]):\n",
    "            yco.reverse()\n",
    "        \n",
    "        for i in range(len(xco)): \n",
    "            grid[xco[i],yco[i]] += 1\n",
    "                        \n",
    "                        \n",
    "print(\"The total number of crossover points is:\", sum(np.count_nonzero(grid > 1, axis=0)))"
   ]
  }
 ],
 "metadata": {
  "kernelspec": {
   "display_name": "Python 3",
   "language": "python",
   "name": "python3"
  },
  "language_info": {
   "codemirror_mode": {
    "name": "ipython",
    "version": 3
   },
   "file_extension": ".py",
   "mimetype": "text/x-python",
   "name": "python",
   "nbconvert_exporter": "python",
   "pygments_lexer": "ipython3",
   "version": "3.8.8"
  }
 },
 "nbformat": 4,
 "nbformat_minor": 5
}
